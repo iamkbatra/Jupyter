{
 "cells": [
  {
   "cell_type": "code",
   "execution_count": 1,
   "id": "c93b8933",
   "metadata": {},
   "outputs": [],
   "source": [
    "import sys\n",
    "import numpy as np\n",
    "import pandas as pd\n",
    "import sklearn"
   ]
  },
  {
   "cell_type": "code",
   "execution_count": 2,
   "id": "0eb95861",
   "metadata": {},
   "outputs": [],
   "source": [
    "#Read CSV and Extract \"Pore Limiting Diameter (PLD)\" as Label\n",
    "sum=pd.read_csv('1M1L3D_summary.csv')\n",
    "PLD=sum['Pore Limiting Diameter']\n",
    "PLD=PLD.fillna(0)\n",
    "#PLD.head()"
   ]
  },
  {
   "cell_type": "code",
   "execution_count": 3,
   "id": "41377307",
   "metadata": {},
   "outputs": [],
   "source": [
    "#Read CSV and Extract All \"Metal Descriptors\" as Feature 1\n",
    "metals=pd.read_csv('1M1L3D_metal_descriptors.csv')\n",
    "metals.drop(['refcode', 'Symbol'], axis=1, inplace=True)\n",
    "metals=metals.fillna(0)\n",
    "#metals.head()"
   ]
  },
  {
   "cell_type": "code",
   "execution_count": 4,
   "id": "595b93e9",
   "metadata": {},
   "outputs": [],
   "source": [
    "#Feature 1 Pre-Processing with Sklearn using MinMax\n",
    "from sklearn.preprocessing import MinMaxScaler\n",
    "metals_scaler=MinMaxScaler()\n",
    "metals_std=pd.DataFrame(metals_scaler.fit_transform(metals), columns=metals.columns, index=metals.index)\n",
    "#metals_std.head()"
   ]
  },
  {
   "cell_type": "code",
   "execution_count": 5,
   "id": "f7302d48",
   "metadata": {},
   "outputs": [],
   "source": [
    "#Read CSV and Extract Selected \"Linker 2D Descriptors\" as Feature 2\n",
    "link_2D=pd.read_csv('1M1L3D_Mordred_2D_descriptors.csv', usecols=['VR2_Dzm','VR2_Dt','ETA_eta_FL','VR2_DzZ','MID_C','BertzCT','ATS1dv','Xp-3d','VR2_Dzp','VR2_Dzse','TpiPC10','SpAD_A','VR2_Dzare','SpAbs_A', 'VR2_Dzpe','VR2_Dzi','VR2_Dzv','ETA_beta','PEOE_VSA7','VR2_D','SMR_VSA7','Xp-7d','Xp-6d','Xp-4d','ETA_eta_RL','ETA_beta_ns','Xp-5d','MID','ABC','SlogP_VSA6','Xp-1d','nBondsM','Zagreb2','nC','MPC3','C3SP2','Zagreb1','NaasC','nBondsKD','nAromAtom','MPC2','NaaCH','nAromBond','nRing'])\n",
    "link_2D=link_2D.fillna(0)\n",
    "#link_2D.head()"
   ]
  },
  {
   "cell_type": "code",
   "execution_count": 6,
   "id": "8017539b",
   "metadata": {},
   "outputs": [],
   "source": [
    "#Feature 2 Pre-Processing with Sklearn using MinMax\n",
    "from sklearn.preprocessing import MinMaxScaler\n",
    "link_2D_scaler=MinMaxScaler()\n",
    "link_2D_std=pd.DataFrame(link_2D_scaler.fit_transform(link_2D), columns=link_2D.columns, index=link_2D.index)\n",
    "#link_2D_std"
   ]
  },
  {
   "cell_type": "code",
   "execution_count": 7,
   "id": "8d1fc367",
   "metadata": {},
   "outputs": [],
   "source": [
    "#Combining Both the Feature 1 & 2\n",
    "features=pd.merge(link_2D_std, metals_std, left_index=True, right_index=True)\n",
    "df=features.merge(PLD, left_index=True, right_index=True)\n",
    "#df.head()"
   ]
  },
  {
   "cell_type": "code",
   "execution_count": 8,
   "id": "7d9d3798",
   "metadata": {},
   "outputs": [],
   "source": [
    "def apply_class(val):\n",
    "  if val > 2.5:\n",
    "    return 1\n",
    "  else:\n",
    "    return 0"
   ]
  },
  {
   "cell_type": "code",
   "execution_count": 9,
   "id": "c1cb4816",
   "metadata": {},
   "outputs": [],
   "source": [
    "df[\"Diameter_Class\"]=df['Pore Limiting Diameter'].apply(apply_class)"
   ]
  },
  {
   "cell_type": "code",
   "execution_count": 10,
   "id": "e2b7ed3b",
   "metadata": {},
   "outputs": [],
   "source": [
    "#Defining Features as X and Label as Y\n",
    "X=df.drop(['Pore Limiting Diameter', 'Diameter_Class'], axis=1)\n",
    "Y=df[\"Diameter_Class\"]"
   ]
  },
  {
   "cell_type": "code",
   "execution_count": 11,
   "id": "c61fdb55",
   "metadata": {},
   "outputs": [],
   "source": [
    "#Spliting into Training Set and Testing Set\n",
    "from sklearn.model_selection import train_test_split\n",
    "X_train, X_test, Y_train, Y_test = train_test_split(X, Y, test_size=0.2, random_state=42)"
   ]
  },
  {
   "cell_type": "code",
   "execution_count": 12,
   "id": "8b048894",
   "metadata": {},
   "outputs": [
    {
     "name": "stderr",
     "output_type": "stream",
     "text": [
      "/Users/kamalbatra/opt/anaconda3/lib/python3.8/site-packages/sklearn/linear_model/_logistic.py:763: ConvergenceWarning: lbfgs failed to converge (status=1):\n",
      "STOP: TOTAL NO. of ITERATIONS REACHED LIMIT.\n",
      "\n",
      "Increase the number of iterations (max_iter) or scale the data as shown in:\n",
      "    https://scikit-learn.org/stable/modules/preprocessing.html\n",
      "Please also refer to the documentation for alternative solver options:\n",
      "    https://scikit-learn.org/stable/modules/linear_model.html#logistic-regression\n",
      "  n_iter_i = _check_optimize_result(\n",
      "/Users/kamalbatra/opt/anaconda3/lib/python3.8/site-packages/sklearn/linear_model/_logistic.py:763: ConvergenceWarning: lbfgs failed to converge (status=1):\n",
      "STOP: TOTAL NO. of ITERATIONS REACHED LIMIT.\n",
      "\n",
      "Increase the number of iterations (max_iter) or scale the data as shown in:\n",
      "    https://scikit-learn.org/stable/modules/preprocessing.html\n",
      "Please also refer to the documentation for alternative solver options:\n",
      "    https://scikit-learn.org/stable/modules/linear_model.html#logistic-regression\n",
      "  n_iter_i = _check_optimize_result(\n",
      "/Users/kamalbatra/opt/anaconda3/lib/python3.8/site-packages/sklearn/linear_model/_logistic.py:763: ConvergenceWarning: lbfgs failed to converge (status=1):\n",
      "STOP: TOTAL NO. of ITERATIONS REACHED LIMIT.\n",
      "\n",
      "Increase the number of iterations (max_iter) or scale the data as shown in:\n",
      "    https://scikit-learn.org/stable/modules/preprocessing.html\n",
      "Please also refer to the documentation for alternative solver options:\n",
      "    https://scikit-learn.org/stable/modules/linear_model.html#logistic-regression\n",
      "  n_iter_i = _check_optimize_result(\n",
      "/Users/kamalbatra/opt/anaconda3/lib/python3.8/site-packages/sklearn/linear_model/_logistic.py:763: ConvergenceWarning: lbfgs failed to converge (status=1):\n",
      "STOP: TOTAL NO. of ITERATIONS REACHED LIMIT.\n",
      "\n",
      "Increase the number of iterations (max_iter) or scale the data as shown in:\n",
      "    https://scikit-learn.org/stable/modules/preprocessing.html\n",
      "Please also refer to the documentation for alternative solver options:\n",
      "    https://scikit-learn.org/stable/modules/linear_model.html#logistic-regression\n",
      "  n_iter_i = _check_optimize_result(\n",
      "/Users/kamalbatra/opt/anaconda3/lib/python3.8/site-packages/sklearn/linear_model/_logistic.py:763: ConvergenceWarning: lbfgs failed to converge (status=1):\n",
      "STOP: TOTAL NO. of ITERATIONS REACHED LIMIT.\n",
      "\n",
      "Increase the number of iterations (max_iter) or scale the data as shown in:\n",
      "    https://scikit-learn.org/stable/modules/preprocessing.html\n",
      "Please also refer to the documentation for alternative solver options:\n",
      "    https://scikit-learn.org/stable/modules/linear_model.html#logistic-regression\n",
      "  n_iter_i = _check_optimize_result(\n",
      "/Users/kamalbatra/opt/anaconda3/lib/python3.8/site-packages/sklearn/linear_model/_logistic.py:763: ConvergenceWarning: lbfgs failed to converge (status=1):\n",
      "STOP: TOTAL NO. of ITERATIONS REACHED LIMIT.\n",
      "\n",
      "Increase the number of iterations (max_iter) or scale the data as shown in:\n",
      "    https://scikit-learn.org/stable/modules/preprocessing.html\n",
      "Please also refer to the documentation for alternative solver options:\n",
      "    https://scikit-learn.org/stable/modules/linear_model.html#logistic-regression\n",
      "  n_iter_i = _check_optimize_result(\n",
      "/Users/kamalbatra/opt/anaconda3/lib/python3.8/site-packages/sklearn/linear_model/_logistic.py:763: ConvergenceWarning: lbfgs failed to converge (status=1):\n",
      "STOP: TOTAL NO. of ITERATIONS REACHED LIMIT.\n",
      "\n",
      "Increase the number of iterations (max_iter) or scale the data as shown in:\n",
      "    https://scikit-learn.org/stable/modules/preprocessing.html\n",
      "Please also refer to the documentation for alternative solver options:\n",
      "    https://scikit-learn.org/stable/modules/linear_model.html#logistic-regression\n",
      "  n_iter_i = _check_optimize_result(\n",
      "/Users/kamalbatra/opt/anaconda3/lib/python3.8/site-packages/sklearn/linear_model/_logistic.py:763: ConvergenceWarning: lbfgs failed to converge (status=1):\n",
      "STOP: TOTAL NO. of ITERATIONS REACHED LIMIT.\n",
      "\n",
      "Increase the number of iterations (max_iter) or scale the data as shown in:\n",
      "    https://scikit-learn.org/stable/modules/preprocessing.html\n",
      "Please also refer to the documentation for alternative solver options:\n",
      "    https://scikit-learn.org/stable/modules/linear_model.html#logistic-regression\n",
      "  n_iter_i = _check_optimize_result(\n",
      "/Users/kamalbatra/opt/anaconda3/lib/python3.8/site-packages/sklearn/linear_model/_logistic.py:763: ConvergenceWarning: lbfgs failed to converge (status=1):\n",
      "STOP: TOTAL NO. of ITERATIONS REACHED LIMIT.\n",
      "\n",
      "Increase the number of iterations (max_iter) or scale the data as shown in:\n",
      "    https://scikit-learn.org/stable/modules/preprocessing.html\n",
      "Please also refer to the documentation for alternative solver options:\n",
      "    https://scikit-learn.org/stable/modules/linear_model.html#logistic-regression\n",
      "  n_iter_i = _check_optimize_result(\n",
      "/Users/kamalbatra/opt/anaconda3/lib/python3.8/site-packages/sklearn/linear_model/_logistic.py:763: ConvergenceWarning: lbfgs failed to converge (status=1):\n",
      "STOP: TOTAL NO. of ITERATIONS REACHED LIMIT.\n",
      "\n",
      "Increase the number of iterations (max_iter) or scale the data as shown in:\n",
      "    https://scikit-learn.org/stable/modules/preprocessing.html\n",
      "Please also refer to the documentation for alternative solver options:\n",
      "    https://scikit-learn.org/stable/modules/linear_model.html#logistic-regression\n",
      "  n_iter_i = _check_optimize_result(\n",
      "/Users/kamalbatra/opt/anaconda3/lib/python3.8/site-packages/sklearn/linear_model/_logistic.py:763: ConvergenceWarning: lbfgs failed to converge (status=1):\n",
      "STOP: TOTAL NO. of ITERATIONS REACHED LIMIT.\n",
      "\n",
      "Increase the number of iterations (max_iter) or scale the data as shown in:\n",
      "    https://scikit-learn.org/stable/modules/preprocessing.html\n",
      "Please also refer to the documentation for alternative solver options:\n",
      "    https://scikit-learn.org/stable/modules/linear_model.html#logistic-regression\n",
      "  n_iter_i = _check_optimize_result(\n",
      "/Users/kamalbatra/opt/anaconda3/lib/python3.8/site-packages/sklearn/linear_model/_logistic.py:763: ConvergenceWarning: lbfgs failed to converge (status=1):\n",
      "STOP: TOTAL NO. of ITERATIONS REACHED LIMIT.\n",
      "\n",
      "Increase the number of iterations (max_iter) or scale the data as shown in:\n",
      "    https://scikit-learn.org/stable/modules/preprocessing.html\n",
      "Please also refer to the documentation for alternative solver options:\n",
      "    https://scikit-learn.org/stable/modules/linear_model.html#logistic-regression\n",
      "  n_iter_i = _check_optimize_result(\n",
      "/Users/kamalbatra/opt/anaconda3/lib/python3.8/site-packages/sklearn/linear_model/_logistic.py:763: ConvergenceWarning: lbfgs failed to converge (status=1):\n",
      "STOP: TOTAL NO. of ITERATIONS REACHED LIMIT.\n",
      "\n",
      "Increase the number of iterations (max_iter) or scale the data as shown in:\n",
      "    https://scikit-learn.org/stable/modules/preprocessing.html\n",
      "Please also refer to the documentation for alternative solver options:\n",
      "    https://scikit-learn.org/stable/modules/linear_model.html#logistic-regression\n",
      "  n_iter_i = _check_optimize_result(\n",
      "/Users/kamalbatra/opt/anaconda3/lib/python3.8/site-packages/sklearn/linear_model/_logistic.py:763: ConvergenceWarning: lbfgs failed to converge (status=1):\n",
      "STOP: TOTAL NO. of ITERATIONS REACHED LIMIT.\n",
      "\n",
      "Increase the number of iterations (max_iter) or scale the data as shown in:\n",
      "    https://scikit-learn.org/stable/modules/preprocessing.html\n",
      "Please also refer to the documentation for alternative solver options:\n",
      "    https://scikit-learn.org/stable/modules/linear_model.html#logistic-regression\n",
      "  n_iter_i = _check_optimize_result(\n",
      "/Users/kamalbatra/opt/anaconda3/lib/python3.8/site-packages/sklearn/linear_model/_logistic.py:763: ConvergenceWarning: lbfgs failed to converge (status=1):\n",
      "STOP: TOTAL NO. of ITERATIONS REACHED LIMIT.\n",
      "\n",
      "Increase the number of iterations (max_iter) or scale the data as shown in:\n",
      "    https://scikit-learn.org/stable/modules/preprocessing.html\n",
      "Please also refer to the documentation for alternative solver options:\n",
      "    https://scikit-learn.org/stable/modules/linear_model.html#logistic-regression\n",
      "  n_iter_i = _check_optimize_result(\n",
      "/Users/kamalbatra/opt/anaconda3/lib/python3.8/site-packages/sklearn/linear_model/_logistic.py:763: ConvergenceWarning: lbfgs failed to converge (status=1):\n",
      "STOP: TOTAL NO. of ITERATIONS REACHED LIMIT.\n",
      "\n",
      "Increase the number of iterations (max_iter) or scale the data as shown in:\n",
      "    https://scikit-learn.org/stable/modules/preprocessing.html\n",
      "Please also refer to the documentation for alternative solver options:\n",
      "    https://scikit-learn.org/stable/modules/linear_model.html#logistic-regression\n",
      "  n_iter_i = _check_optimize_result(\n",
      "/Users/kamalbatra/opt/anaconda3/lib/python3.8/site-packages/sklearn/linear_model/_logistic.py:763: ConvergenceWarning: lbfgs failed to converge (status=1):\n",
      "STOP: TOTAL NO. of ITERATIONS REACHED LIMIT.\n",
      "\n",
      "Increase the number of iterations (max_iter) or scale the data as shown in:\n",
      "    https://scikit-learn.org/stable/modules/preprocessing.html\n",
      "Please also refer to the documentation for alternative solver options:\n",
      "    https://scikit-learn.org/stable/modules/linear_model.html#logistic-regression\n",
      "  n_iter_i = _check_optimize_result(\n"
     ]
    },
    {
     "name": "stdout",
     "output_type": "stream",
     "text": [
      "accuracy of each fold - [0.7111888111888112, 0.7055944055944056, 0.6433566433566433, 0.6727272727272727, 0.6972027972027972, 0.6797202797202797, 0.6662001399580126, 0.6969909027291813, 0.675297410776767, 0.6906927921623512]\n",
      "Avg accuracy: 0.6838971455416522\n"
     ]
    },
    {
     "name": "stderr",
     "output_type": "stream",
     "text": [
      "/Users/kamalbatra/opt/anaconda3/lib/python3.8/site-packages/sklearn/linear_model/_logistic.py:763: ConvergenceWarning: lbfgs failed to converge (status=1):\n",
      "STOP: TOTAL NO. of ITERATIONS REACHED LIMIT.\n",
      "\n",
      "Increase the number of iterations (max_iter) or scale the data as shown in:\n",
      "    https://scikit-learn.org/stable/modules/preprocessing.html\n",
      "Please also refer to the documentation for alternative solver options:\n",
      "    https://scikit-learn.org/stable/modules/linear_model.html#logistic-regression\n",
      "  n_iter_i = _check_optimize_result(\n"
     ]
    }
   ],
   "source": [
    "#Logistic Regression (LR) with KFold\n",
    "from sklearn.linear_model import LogisticRegression\n",
    "from sklearn.metrics import accuracy_score\n",
    "from sklearn.model_selection import cross_val_score\n",
    "from sklearn.model_selection import KFold\n",
    "k=10\n",
    "kf=KFold(n_splits=k, random_state=None)\n",
    "logreg=LogisticRegression()\n",
    "\n",
    "acc_score=[] \n",
    "\n",
    "for train_index, test_index in kf.split(X):\n",
    "    X_train, X_test = X.iloc[train_index,:], X.iloc[test_index,:]\n",
    "    Y_train, Y_test = Y[train_index], Y[test_index]\n",
    "     \n",
    "    logreg.fit(X_train, Y_train)\n",
    "    Y_pred=logreg.predict(X_test)\n",
    "     \n",
    "    acc=accuracy_score(Y_test,Y_pred)\n",
    "    acc_score.append(acc)\n",
    "\n",
    "result_logreg=cross_val_score(logreg, X, Y, cv=kf)\n",
    "print('accuracy of each fold - {}'.format(acc_score))\n",
    "print(\"Avg accuracy: {}\".format(result_logreg.mean()))"
   ]
  },
  {
   "cell_type": "code",
   "execution_count": 13,
   "id": "08cf1c3a",
   "metadata": {},
   "outputs": [
    {
     "name": "stdout",
     "output_type": "stream",
     "text": [
      "accuracy of each fold - [0.7132867132867133, 0.6993006993006993, 0.6475524475524476, 0.6846153846153846, 0.66993006993007, 0.6951048951048951, 0.6829951014695591, 0.6962911126662001, 0.6878936319104269, 0.7025892232330301]\n",
      "Avg accuracy: 0.6879559279069426\n"
     ]
    }
   ],
   "source": [
    "#Support Vector Machine (SVM) with KFold\n",
    "from sklearn.svm import SVC\n",
    "from sklearn.metrics import accuracy_score\n",
    "from sklearn.model_selection import cross_val_score\n",
    "from sklearn.model_selection import KFold\n",
    "k=10\n",
    "kf=KFold(n_splits=k, random_state=None)\n",
    "svc=SVC(C=1.0, random_state=None, kernel='linear')\n",
    " \n",
    "acc_score=[]\n",
    " \n",
    "for train_index, test_index in kf.split(X):\n",
    "    X_train, X_test = X.iloc[train_index,:], X.iloc[test_index,:]\n",
    "    Y_train, Y_test = Y[train_index], Y[test_index]\n",
    "     \n",
    "    svc.fit(X_train, Y_train)\n",
    "    Y_pred=svc.predict(X_test)\n",
    "     \n",
    "    acc=accuracy_score(Y_test,Y_pred)\n",
    "    acc_score.append(acc)\n",
    "\n",
    "result_svc=cross_val_score(svc, X, Y, cv=kf)\n",
    "print('accuracy of each fold - {}'.format(acc_score))\n",
    "print(\"Avg accuracy: {}\".format(result_svc.mean()))"
   ]
  },
  {
   "cell_type": "code",
   "execution_count": 14,
   "id": "61747dcf",
   "metadata": {},
   "outputs": [
    {
     "name": "stdout",
     "output_type": "stream",
     "text": [
      "accuracy of each fold - [0.7216783216783217, 0.7454545454545455, 0.6797202797202797, 0.7146853146853147, 0.7020979020979021, 0.727972027972028, 0.7326801959412176, 0.7298810356892932, 0.7123862841147656, 0.7123862841147656]\n",
      "Avg accuracy: 0.7158651705187744\n"
     ]
    }
   ],
   "source": [
    "#Decision Tree (DT) with KFold\n",
    "from sklearn.tree import DecisionTreeClassifier\n",
    "from sklearn.metrics import accuracy_score\n",
    "from sklearn.model_selection import cross_val_score\n",
    "from sklearn.model_selection import KFold\n",
    "k=10\n",
    "kf=KFold(n_splits=k, random_state=None)\n",
    "clf=DecisionTreeClassifier()\n",
    " \n",
    "acc_score=[]\n",
    " \n",
    "for train_index, test_index in kf.split(X):\n",
    "    X_train, X_test = X.iloc[train_index,:], X.iloc[test_index,:]\n",
    "    Y_train, Y_test = Y[train_index], Y[test_index]\n",
    "     \n",
    "    clf.fit(X_train, Y_train)\n",
    "    Y_pred=clf.predict(X_test)\n",
    "     \n",
    "    acc=accuracy_score(Y_test,Y_pred)\n",
    "    acc_score.append(acc)\n",
    "\n",
    "result_clf=cross_val_score(clf, X, Y, cv=kf)\n",
    "print('accuracy of each fold - {}'.format(acc_score))\n",
    "print(\"Avg accuracy: {}\".format(result_clf.mean()))"
   ]
  },
  {
   "cell_type": "code",
   "execution_count": 15,
   "id": "8f785b6c",
   "metadata": {},
   "outputs": [
    {
     "name": "stdout",
     "output_type": "stream",
     "text": [
      "accuracy of each fold - [0.7489510489510489, 0.7748251748251749, 0.7118881118881119, 0.7447552447552448, 0.7405594405594406, 0.7706293706293706, 0.762071378586424, 0.7760671798460462, 0.741777466759972, 0.7697690692792163]\n",
      "Avg accuracy: 0.7539181881799097\n"
     ]
    }
   ],
   "source": [
    "#Random Forest (RF) with KFold\n",
    "from sklearn.ensemble import RandomForestClassifier\n",
    "from sklearn.metrics import accuracy_score\n",
    "from sklearn.model_selection import cross_val_score\n",
    "from sklearn.model_selection import KFold\n",
    "k=10\n",
    "kf=KFold(n_splits=k, random_state=None)\n",
    "forest=RandomForestClassifier()\n",
    " \n",
    "acc_score=[]\n",
    " \n",
    "for train_index, test_index in kf.split(X):\n",
    "    X_train, X_test = X.iloc[train_index,:], X.iloc[test_index,:]\n",
    "    Y_train, Y_test = Y[train_index], Y[test_index]\n",
    "     \n",
    "    forest.fit(X_train, Y_train)\n",
    "    Y_pred=forest.predict(X_test)\n",
    "     \n",
    "    acc=accuracy_score(Y_test, Y_pred)\n",
    "    acc_score.append(acc)\n",
    "\n",
    "result_forest=cross_val_score(forest, X, Y, cv=kf)\n",
    "print('accuracy of each fold - {}'.format(acc_score))\n",
    "print(\"Avg accuracy: {}\".format(result_forest.mean()))"
   ]
  },
  {
   "cell_type": "code",
   "execution_count": 16,
   "id": "d70e0f17",
   "metadata": {},
   "outputs": [
    {
     "name": "stdout",
     "output_type": "stream",
     "text": [
      "accuracy of each fold - [0.7104895104895105, 0.7321678321678322, 0.6706293706293707, 0.7, 0.6979020979020979, 0.720979020979021, 0.7158852344296711, 0.7319804058782365, 0.688593421973408, 0.7109867039888034]\n",
      "Avg accuracy: 0.7079613598437952\n"
     ]
    }
   ],
   "source": [
    "#K-Nearest Neighbors (K-NN) with KFold\n",
    "from sklearn.neighbors import KNeighborsClassifier\n",
    "from sklearn.metrics import accuracy_score\n",
    "from sklearn.model_selection import cross_val_score\n",
    "from sklearn.model_selection import KFold\n",
    "k=10\n",
    "kf=KFold(n_splits=k, random_state=None)\n",
    "knn=KNeighborsClassifier()\n",
    " \n",
    "acc_score=[]\n",
    " \n",
    "for train_index, test_index in kf.split(X):\n",
    "    X_train, X_test = X.iloc[train_index,:], X.iloc[test_index,:]\n",
    "    Y_train, Y_test = Y[train_index], Y[test_index]\n",
    "     \n",
    "    knn.fit(X_train, Y_train)\n",
    "    Y_pred=knn.predict(X_test)\n",
    "     \n",
    "    acc=accuracy_score(Y_test, Y_pred)\n",
    "    acc_score.append(acc)\n",
    "\n",
    "result_knn=cross_val_score(knn, X, Y, cv=kf)\n",
    "print('accuracy of each fold - {}'.format(acc_score))\n",
    "print(\"Avg accuracy: {}\".format(result_knn.mean()))"
   ]
  },
  {
   "cell_type": "code",
   "execution_count": 17,
   "id": "50e366dd",
   "metadata": {},
   "outputs": [
    {
     "data": {
      "image/png": "[encoded data removed]",
      "text/plain": [
       "<Figure size 432x288 with 1 Axes>"
      ]
     },
     "metadata": {
      "needs_background": "light"
     },
     "output_type": "display_data"
    }
   ],
   "source": [
    "import matplotlib.pyplot as plt\n",
    "all_results=list([result_logreg, result_svc, result_clf, result_forest, result_knn])\n",
    "fig, ax=plt.subplots() \n",
    "bp=ax.boxplot(all_results, patch_artist = True)\n",
    "colors = ['pink', 'orange', 'yellow', 'lightgreen', 'skyblue']\n",
    "for patch, color in zip(bp['boxes'], colors):\n",
    "    patch.set_facecolor(color)\n",
    "for median in bp['medians']: median.set(color ='black', linewidth = 1.0) \n",
    "ax.set_title('50 features', fontsize=18)\n",
    "ax.set_xlabel('ML models', fontsize=15)\n",
    "ax.set_ylabel('Accuracy', fontsize=15)\n",
    "xticklabels=['LR','SVM', 'CART', 'RF', 'KNN']\n",
    "ax.set_xticklabels(xticklabels, fontsize=12)\n",
    "plt.yticks(fontsize=12)\n",
    "plt.savefig('50_Feat.png')\n",
    "plt.show()"
   ]
  },
  {
   "cell_type": "code",
   "execution_count": null,
   "id": "48b56a0f",
   "metadata": {},
   "outputs": [],
   "source": []
  }
 ],
 "metadata": {
  "kernelspec": {
   "display_name": "Python 3",
   "language": "python",
   "name": "python3"
  },
  "language_info": {
   "codemirror_mode": {
    "name": "ipython",
    "version": 3
   },
   "file_extension": ".py",
   "mimetype": "text/x-python",
   "name": "python",
   "nbconvert_exporter": "python",
   "pygments_lexer": "ipython3",
   "version": "3.8.8"
  }
 },
 "nbformat": 4,
 "nbformat_minor": 5
}
