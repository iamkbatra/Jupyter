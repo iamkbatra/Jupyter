{
 "cells": [
  {
   "cell_type": "code",
   "execution_count": 1,
   "id": "c93b8933",
   "metadata": {},
   "outputs": [],
   "source": [
    "import sys\n",
    "import numpy as np\n",
    "import pandas as pd\n",
    "import sklearn"
   ]
  },
  {
   "cell_type": "code",
   "execution_count": 2,
   "id": "0eb95861",
   "metadata": {},
   "outputs": [],
   "source": [
    "#Read CSV and Extract \"Pore Limiting Diameter (PLD)\" as Label\n",
    "sum=pd.read_csv('1M1L3D_summary.csv')\n",
    "PLD=sum['Pore Limiting Diameter']\n",
    "PLD=PLD.fillna(0)\n",
    "#PLD.head()"
   ]
  },
  {
   "cell_type": "code",
   "execution_count": 3,
   "id": "41377307",
   "metadata": {},
   "outputs": [],
   "source": [
    "#Read CSV and Extract All \"Metal Descriptors\" as Feature 1\n",
    "metals=pd.read_csv('1M1L3D_metal_descriptors.csv')\n",
    "metals.drop(['refcode', 'Symbol'], axis=1, inplace=True)\n",
    "metals=metals.fillna(0)\n",
    "#metals.head()"
   ]
  },
  {
   "cell_type": "code",
   "execution_count": 4,
   "id": "595b93e9",
   "metadata": {},
   "outputs": [],
   "source": [
    "#Feature 1 Pre-Processing with Sklearn using MinMax\n",
    "from sklearn.preprocessing import MinMaxScaler\n",
    "metals_scaler=MinMaxScaler()\n",
    "metals_std=pd.DataFrame(metals_scaler.fit_transform(metals), columns=metals.columns, index=metals.index)\n",
    "#metals_std.head()"
   ]
  },
  {
   "cell_type": "code",
   "execution_count": 5,
   "id": "f7302d48",
   "metadata": {},
   "outputs": [],
   "source": [
    "#Read CSV and Extract Selected \"Linker 2D Descriptors\" as Feature 2\n",
    "link_2D=pd.read_csv('1M1L3D_Mordred_2D_descriptors.csv', usecols=['VR2_Dzm','VR2_Dt','ETA_eta_FL','VR2_DzZ'])\n",
    "link_2D=link_2D.fillna(0)\n",
    "#link_2D.head()"
   ]
  },
  {
   "cell_type": "code",
   "execution_count": 6,
   "id": "8017539b",
   "metadata": {},
   "outputs": [],
   "source": [
    "#Feature 2 Pre-Processing with Sklearn using MinMax\n",
    "from sklearn.preprocessing import MinMaxScaler\n",
    "link_2D_scaler=MinMaxScaler()\n",
    "link_2D_std=pd.DataFrame(link_2D_scaler.fit_transform(link_2D), columns=link_2D.columns, index=link_2D.index)\n",
    "#link_2D_std"
   ]
  },
  {
   "cell_type": "code",
   "execution_count": 7,
   "id": "8d1fc367",
   "metadata": {},
   "outputs": [],
   "source": [
    "#Combining Both the Feature 1 & 2\n",
    "features=pd.merge(link_2D_std, metals_std, left_index=True, right_index=True)\n",
    "df=features.merge(PLD, left_index=True, right_index=True)\n",
    "#df.head()"
   ]
  },
  {
   "cell_type": "code",
   "execution_count": 8,
   "id": "7d9d3798",
   "metadata": {},
   "outputs": [],
   "source": [
    "def apply_class(val):\n",
    "  if val > 2.5:\n",
    "    return 1\n",
    "  else:\n",
    "    return 0"
   ]
  },
  {
   "cell_type": "code",
   "execution_count": 9,
   "id": "c1cb4816",
   "metadata": {},
   "outputs": [],
   "source": [
    "df[\"Diameter_Class\"]=df['Pore Limiting Diameter'].apply(apply_class)"
   ]
  },
  {
   "cell_type": "code",
   "execution_count": 10,
   "id": "e2b7ed3b",
   "metadata": {},
   "outputs": [],
   "source": [
    "#Defining Features as X and Label as Y\n",
    "X=df.drop(['Pore Limiting Diameter', 'Diameter_Class'], axis=1)\n",
    "Y=df[\"Diameter_Class\"]"
   ]
  },
  {
   "cell_type": "code",
   "execution_count": 11,
   "id": "c61fdb55",
   "metadata": {},
   "outputs": [],
   "source": [
    "#Spliting into Training Set and Testing Set\n",
    "from sklearn.model_selection import train_test_split\n",
    "X_train, X_test, Y_train, Y_test = train_test_split(X, Y, test_size=0.2, random_state=42)"
   ]
  },
  {
   "cell_type": "code",
   "execution_count": 12,
   "id": "b5835254",
   "metadata": {},
   "outputs": [
    {
     "name": "stdout",
     "output_type": "stream",
     "text": [
      "accuracy of each fold - [0.7013986013986014, 0.7, 0.6258741258741258, 0.6552447552447552, 0.6489510489510489, 0.6608391608391608, 0.6459062281315605, 0.6794961511546536, 0.6326102169349195, 0.689293212036389]\n",
      "Avg accuracy: 0.6639613500565215\n"
     ]
    }
   ],
   "source": [
    "#Logistic Regression (LR) with KFold\n",
    "from sklearn.linear_model import LogisticRegression\n",
    "from sklearn.metrics import accuracy_score\n",
    "from sklearn.model_selection import cross_val_score\n",
    "from sklearn.model_selection import KFold\n",
    "k=10\n",
    "kf=KFold(n_splits=k, random_state=None)\n",
    "logreg=LogisticRegression()\n",
    "\n",
    "acc_score=[] \n",
    "\n",
    "for train_index, test_index in kf.split(X):\n",
    "    X_train, X_test = X.iloc[train_index,:], X.iloc[test_index,:]\n",
    "    Y_train, Y_test = Y[train_index], Y[test_index]\n",
    "     \n",
    "    logreg.fit(X_train, Y_train)\n",
    "    Y_pred=logreg.predict(X_test)\n",
    "     \n",
    "    acc=accuracy_score(Y_test,Y_pred)\n",
    "    acc_score.append(acc)\n",
    "\n",
    "result_logreg=cross_val_score(logreg, X, Y, cv=kf)\n",
    "print('accuracy of each fold - {}'.format(acc_score))\n",
    "print(\"Avg accuracy: {}\".format(result_logreg.mean()))"
   ]
  },
  {
   "cell_type": "code",
   "execution_count": 13,
   "id": "66898171",
   "metadata": {},
   "outputs": [
    {
     "name": "stdout",
     "output_type": "stream",
     "text": [
      "accuracy of each fold - [0.6965034965034965, 0.6986013986013986, 0.6321678321678321, 0.6594405594405595, 0.6426573426573426, 0.66993006993007, 0.642407277816655, 0.6773967809657103, 0.6326102169349195, 0.6962911126662001]\n",
      "Avg accuracy: 0.6648006087684184\n"
     ]
    }
   ],
   "source": [
    "#Support Vector Machine (SVM) with KFold\n",
    "from sklearn.svm import SVC\n",
    "from sklearn.metrics import accuracy_score\n",
    "from sklearn.model_selection import cross_val_score\n",
    "from sklearn.model_selection import KFold\n",
    "k=10\n",
    "kf=KFold(n_splits=k, random_state=None)\n",
    "svc=SVC(C=1.0, random_state=None, kernel='linear')\n",
    " \n",
    "acc_score=[]\n",
    " \n",
    "for train_index, test_index in kf.split(X):\n",
    "    X_train, X_test = X.iloc[train_index,:], X.iloc[test_index,:]\n",
    "    Y_train, Y_test = Y[train_index], Y[test_index]\n",
    "     \n",
    "    svc.fit(X_train, Y_train)\n",
    "    Y_pred=svc.predict(X_test)\n",
    "     \n",
    "    acc=accuracy_score(Y_test,Y_pred)\n",
    "    acc_score.append(acc)\n",
    "\n",
    "result_svc=cross_val_score(svc, X, Y, cv=kf)\n",
    "print('accuracy of each fold - {}'.format(acc_score))\n",
    "print(\"Avg accuracy: {}\".format(result_svc.mean()))"
   ]
  },
  {
   "cell_type": "code",
   "execution_count": 14,
   "id": "0fa7e6d2",
   "metadata": {},
   "outputs": [
    {
     "name": "stdout",
     "output_type": "stream",
     "text": [
      "accuracy of each fold - [0.7265734265734266, 0.7482517482517482, 0.6727272727272727, 0.7230769230769231, 0.7048951048951049, 0.7181818181818181, 0.7396780965710287, 0.7193841847445767, 0.6920923722883136, 0.7263820853743876]\n",
      "Avg accuracy: 0.7175431985788878\n"
     ]
    }
   ],
   "source": [
    "#Decision Tree (DT) with KFold\n",
    "from sklearn.tree import DecisionTreeClassifier\n",
    "from sklearn.metrics import accuracy_score\n",
    "from sklearn.model_selection import cross_val_score\n",
    "from sklearn.model_selection import KFold\n",
    "k=10\n",
    "kf=KFold(n_splits=k, random_state=None)\n",
    "clf=DecisionTreeClassifier()\n",
    " \n",
    "acc_score=[]\n",
    " \n",
    "for train_index, test_index in kf.split(X):\n",
    "    X_train, X_test = X.iloc[train_index,:], X.iloc[test_index,:]\n",
    "    Y_train, Y_test = Y[train_index], Y[test_index]\n",
    "     \n",
    "    clf.fit(X_train, Y_train)\n",
    "    Y_pred=clf.predict(X_test)\n",
    "     \n",
    "    acc=accuracy_score(Y_test,Y_pred)\n",
    "    acc_score.append(acc)\n",
    "\n",
    "result_clf=cross_val_score(clf, X, Y, cv=kf)\n",
    "print('accuracy of each fold - {}'.format(acc_score))\n",
    "print(\"Avg accuracy: {}\".format(result_clf.mean()))"
   ]
  },
  {
   "cell_type": "code",
   "execution_count": 15,
   "id": "aa42b4d8",
   "metadata": {},
   "outputs": [
    {
     "name": "stdout",
     "output_type": "stream",
     "text": [
      "accuracy of each fold - [0.7608391608391608, 0.762937062937063, 0.686013986013986, 0.7314685314685314, 0.7118881118881119, 0.7461538461538462, 0.7382785164450665, 0.7557732680195941, 0.7179846046186145, 0.7424772568229531]\n",
      "Avg accuracy: 0.7372004482571313\n"
     ]
    }
   ],
   "source": [
    "#Random Forest (RF) with KFold\n",
    "from sklearn.ensemble import RandomForestClassifier\n",
    "from sklearn.metrics import accuracy_score\n",
    "from sklearn.model_selection import cross_val_score\n",
    "from sklearn.model_selection import KFold\n",
    "k=10\n",
    "kf=KFold(n_splits=k, random_state=None)\n",
    "forest=RandomForestClassifier()\n",
    " \n",
    "acc_score=[]\n",
    " \n",
    "for train_index, test_index in kf.split(X):\n",
    "    X_train, X_test = X.iloc[train_index,:], X.iloc[test_index,:]\n",
    "    Y_train, Y_test = Y[train_index], Y[test_index]\n",
    "     \n",
    "    forest.fit(X_train, Y_train)\n",
    "    Y_pred=forest.predict(X_test)\n",
    "     \n",
    "    acc=accuracy_score(Y_test, Y_pred)\n",
    "    acc_score.append(acc)\n",
    "\n",
    "result_forest=cross_val_score(forest, X, Y, cv=kf)\n",
    "print('accuracy of each fold - {}'.format(acc_score))\n",
    "print(\"Avg accuracy: {}\".format(result_forest.mean()))"
   ]
  },
  {
   "cell_type": "code",
   "execution_count": 16,
   "id": "7b7d8a2b",
   "metadata": {},
   "outputs": [
    {
     "name": "stdout",
     "output_type": "stream",
     "text": [
      "accuracy of each fold - [0.737062937062937, 0.7202797202797203, 0.6881118881118881, 0.6958041958041958, 0.7020979020979021, 0.7384615384615385, 0.722183344996501, 0.7319804058782365, 0.695591322603219, 0.6990902729181245]\n",
      "Avg accuracy: 0.7130663528214263\n"
     ]
    }
   ],
   "source": [
    "#K-Nearest Neighbors (K-NN) with KFold\n",
    "from sklearn.neighbors import KNeighborsClassifier\n",
    "from sklearn.metrics import accuracy_score\n",
    "from sklearn.model_selection import cross_val_score\n",
    "from sklearn.model_selection import KFold\n",
    "k=10\n",
    "kf=KFold(n_splits=k, random_state=None)\n",
    "knn=KNeighborsClassifier()\n",
    " \n",
    "acc_score=[]\n",
    " \n",
    "for train_index, test_index in kf.split(X):\n",
    "    X_train, X_test = X.iloc[train_index,:], X.iloc[test_index,:]\n",
    "    Y_train, Y_test = Y[train_index], Y[test_index]\n",
    "     \n",
    "    knn.fit(X_train, Y_train)\n",
    "    Y_pred=knn.predict(X_test)\n",
    "     \n",
    "    acc=accuracy_score(Y_test, Y_pred)\n",
    "    acc_score.append(acc)\n",
    "\n",
    "result_knn=cross_val_score(knn, X, Y, cv=kf)\n",
    "print('accuracy of each fold - {}'.format(acc_score))\n",
    "print(\"Avg accuracy: {}\".format(result_knn.mean()))"
   ]
  },
  {
   "cell_type": "code",
   "execution_count": 17,
   "id": "0e2f4dc8",
   "metadata": {},
   "outputs": [
    {
     "data": {
      "image/png": "[encoded data removed]",
      "text/plain": [
       "<Figure size 432x288 with 1 Axes>"
      ]
     },
     "metadata": {
      "needs_background": "light"
     },
     "output_type": "display_data"
    }
   ],
   "source": [
    "import matplotlib.pyplot as plt\n",
    "all_results=list([result_logreg, result_svc, result_clf, result_forest, result_knn])\n",
    "fig, ax=plt.subplots() \n",
    "bp=ax.boxplot(all_results, patch_artist = True)\n",
    "colors = ['pink', 'orange', 'yellow', 'lightgreen', 'skyblue']\n",
    "for patch, color in zip(bp['boxes'], colors):\n",
    "    patch.set_facecolor(color)\n",
    "for median in bp['medians']: median.set(color ='black', linewidth = 1.0) \n",
    "ax.set_title('10 features', fontsize=18)\n",
    "ax.set_xlabel('ML models', fontsize=15)\n",
    "ax.set_ylabel('Accuracy', fontsize=15)\n",
    "xticklabels=['LR','SVM', 'CART', 'RF', 'KNN']\n",
    "ax.set_xticklabels(xticklabels, fontsize=12)\n",
    "plt.yticks(fontsize=12)\n",
    "plt.savefig('10_Feat.png')\n",
    "plt.show()"
   ]
  },
  {
   "cell_type": "code",
   "execution_count": null,
   "id": "6f506f02",
   "metadata": {},
   "outputs": [],
   "source": []
  }
 ],
 "metadata": {
  "kernelspec": {
   "display_name": "Python 3",
   "language": "python",
   "name": "python3"
  },
  "language_info": {
   "codemirror_mode": {
    "name": "ipython",
    "version": 3
   },
   "file_extension": ".py",
   "mimetype": "text/x-python",
   "name": "python",
   "nbconvert_exporter": "python",
   "pygments_lexer": "ipython3",
   "version": "3.8.8"
  }
 },
 "nbformat": 4,
 "nbformat_minor": 5
}
